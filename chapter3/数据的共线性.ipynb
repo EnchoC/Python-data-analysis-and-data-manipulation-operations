{
 "cells": [
  {
   "cell_type": "code",
   "execution_count": 1,
   "metadata": {},
   "outputs": [],
   "source": [
    "####################################################################\n",
    "# 3.7 解决运营数据的共线性问题\n",
    "# 导入相关库\n",
    "import numpy as np\n",
    "from sklearn.linear_model import Ridge\n",
    "from sklearn.decomposition import PCA\n",
    "from sklearn.linear_model import LinearRegression\n"
   ]
  },
  {
   "cell_type": "code",
   "execution_count": 2,
   "metadata": {},
   "outputs": [],
   "source": [
    "\n",
    "# 读取数据\n",
    "data = np.loadtxt('data5.txt', delimiter='\\t')  # 读取数据文件\n",
    "x = data[:, :-1]  # 切分自变量\n",
    "y = data[:, -1]  # 切分预测变量\n"
   ]
  },
  {
   "cell_type": "code",
   "execution_count": 3,
   "metadata": {},
   "outputs": [
    {
     "name": "stdout",
     "output_type": "stream",
     "text": [
      "[  8.50164360e+01  -1.18330186e-03   9.80792921e-04  -8.54201056e-04\n",
      "   2.10489064e-05   2.20180449e-04  -3.00990875e-06  -9.30084240e-06\n",
      "  -2.84498824e-08]\n",
      "-7443.98652868\n"
     ]
    }
   ],
   "source": [
    "\n",
    "# 使用岭回归算法进行回归分析\n",
    "model_ridge = Ridge(alpha=1.0)  # 建立岭回归模型对象\n",
    "model_ridge.fit(x, y)  # 输入x/y训练模型\n",
    "print (model_ridge.coef_)  # 打印输出自变量的系数\n",
    "print (model_ridge.intercept_)  # 打印输出截距\n"
   ]
  },
  {
   "cell_type": "code",
   "execution_count": 4,
   "metadata": {},
   "outputs": [
    {
     "name": "stdout",
     "output_type": "stream",
     "text": [
      "[ 0.9028      0.98570494  0.99957412  0.99995908  0.99999562  0.99999939\n",
      "  0.99999999  1.          1.        ]\n",
      "[  1.26262171e-05]\n",
      "1058.52726\n"
     ]
    }
   ],
   "source": [
    "\n",
    "# 使用主成分回归进行回归分析\n",
    "model_pca = PCA()  # 建立PCA模型对象\n",
    "data_pca = model_pca.fit_transform(x)  # 将x进行主成分分析\n",
    "ratio_cumsm = np.cumsum(model_pca.explained_variance_ratio_)  # 得到所有主成分方差占比的累积数据\n",
    "print (ratio_cumsm)  # 打印输出所有主成分方差占比累积\n",
    "rule_index = np.where(ratio_cumsm > 0.8)  # 获取方差占比超过0.8的所有索引值\n",
    "min_index = rule_index[0][0]  # 获取最小索引值\n",
    "data_pca_result = data_pca[:, :min_index + 1]  # 根据最小索引值提取主成分\n",
    "model_liner = LinearRegression()  # 建立回归模型对象\n",
    "model_liner.fit(data_pca_result, y)  # 输入主成分数据和预测变量y并训练模型\n",
    "print (model_liner.coef_)  # 打印输出自变量的系数\n",
    "print (model_liner.intercept_)  # 打印输出截距"
   ]
  },
  {
   "cell_type": "code",
   "execution_count": null,
   "metadata": {},
   "outputs": [],
   "source": []
  }
 ],
 "metadata": {
  "kernelspec": {
   "display_name": "Python 2",
   "language": "python",
   "name": "python2"
  },
  "language_info": {
   "codemirror_mode": {
    "name": "ipython",
    "version": 2
   },
   "file_extension": ".py",
   "mimetype": "text/x-python",
   "name": "python",
   "nbconvert_exporter": "python",
   "pygments_lexer": "ipython2",
   "version": "2.7.15"
  }
 },
 "nbformat": 4,
 "nbformat_minor": 2
}
