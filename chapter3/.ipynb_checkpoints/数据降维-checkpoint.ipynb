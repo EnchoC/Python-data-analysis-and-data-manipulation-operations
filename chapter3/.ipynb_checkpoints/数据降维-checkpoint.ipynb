{
 "cells": [
  {
   "cell_type": "code",
   "execution_count": 1,
   "metadata": {},
   "outputs": [],
   "source": [
    "####################################################################\n",
    "# 3.3 大数据时代，数据化运营还需要降维吗\n",
    "import numpy as np\n",
    "from sklearn.tree import DecisionTreeClassifier\n",
    "from sklearn.decomposition import PCA"
   ]
  },
  {
   "cell_type": "code",
   "execution_count": 2,
   "metadata": {},
   "outputs": [
    {
     "name": "stdout",
     "output_type": "stream",
     "text": [
      "(array([ 1.88622997,  1.31785876, -0.16480621,  0.56536882, -1.11934542,\n",
      "       -0.53218995, -0.6843102 ,  1.24149827,  1.00579225,  0.45485041]), 0.0)\n"
     ]
    }
   ],
   "source": [
    "\n",
    "# 读取数据文件\n",
    "data = np.loadtxt('data1.txt')  # 读取文本数据文件\n",
    "x = data[:, :-1]  # 获得输入的x\n",
    "y = data[:, -1]  # 获得目标变量y\n",
    "print (x[0], y[0])  # 打印输出x和y的第一条记录\n"
   ]
  },
  {
   "cell_type": "code",
   "execution_count": 7,
   "metadata": {},
   "outputs": [
    {
     "name": "stdout",
     "output_type": "stream",
     "text": [
      "[ 0.03331054  0.01513967  0.02199713  0.119727    0.47930312  0.04776297\n",
      "  0.17111746  0.02585441  0.02012725  0.06566044]\n"
     ]
    }
   ],
   "source": [
    "\n",
    "# 使用sklearn的DecisionTreeClassifier判断变量重要性\n",
    "model_tree = DecisionTreeClassifier(random_state=0)  # 建立分类决策树模型对象\n",
    "## random_state控制随机种子，如不设置胡导致模型结果有微小差异\n",
    "model_tree.fit(x, y)  # 将数据集的维度和目标变量输入模型\n",
    "feature_importance = model_tree.feature_importances_  # 获得所有变量的重要性得分\n",
    "print (feature_importance)  # 打印输出"
   ]
  },
  {
   "cell_type": "code",
   "execution_count": 6,
   "metadata": {},
   "outputs": [
    {
     "name": "stdout",
     "output_type": "stream",
     "text": [
      "[[  7.18818316e-03   1.41619205e-02   1.00543847e-02   3.65097575e-01\n",
      "    6.38944537e-01  -1.95750380e-02  -1.73413378e-01  -3.80829974e-02\n",
      "   -2.87413113e-03  -6.52829504e-01]\n",
      " [  1.01307710e-02  -1.95270201e-04  -2.33689543e-02  -6.12915216e-01\n",
      "    5.08983971e-01  -2.23429533e-02   6.02958940e-01  -1.49061329e-02\n",
      "   -1.81362216e-02  -3.41623971e-03]]\n",
      "[ 4.22602937  2.21149972]\n",
      "[  3.38339364e-01   1.77054475e-01   8.92753857e-02   8.73655166e-02\n",
      "   8.23542686e-02   8.03329836e-02   7.38094896e-02   7.14685179e-02\n",
      "   1.09453487e-32   3.63810060e-33]\n"
     ]
    }
   ],
   "source": [
    "\n",
    "# 使用sklearn的PCA进行维度转换\n",
    "model_pca = PCA()  # 建立PCA模型对象\n",
    "model_pca.fit(x)  # 将数据集输入模型\n",
    "model_pca.transform(x)  # 对数据集进行转换映射\n",
    "components = model_pca.components_  # 获得转换后的所有主成分\n",
    "components_var = model_pca.explained_variance_  # 获得各主成分的方差\n",
    "components_var_ratio = model_pca.explained_variance_ratio_  # 获得各主成分的方差占比\n",
    "print (components[:2])  # 打印输出前2个主成分\n",
    "print (components_var[:2])  # 打印输出前2个主成分的方差\n",
    "print (components_var_ratio)  # 打印输出所有主成分的方差占比"
   ]
  },
  {
   "cell_type": "code",
   "execution_count": null,
   "metadata": {},
   "outputs": [],
   "source": []
  }
 ],
 "metadata": {
  "kernelspec": {
   "display_name": "Python 2",
   "language": "python",
   "name": "python2"
  },
  "language_info": {
   "codemirror_mode": {
    "name": "ipython",
    "version": 2
   },
   "file_extension": ".py",
   "mimetype": "text/x-python",
   "name": "python",
   "nbconvert_exporter": "python",
   "pygments_lexer": "ipython2",
   "version": "2.7.15"
  }
 },
 "nbformat": 4,
 "nbformat_minor": 2
}
