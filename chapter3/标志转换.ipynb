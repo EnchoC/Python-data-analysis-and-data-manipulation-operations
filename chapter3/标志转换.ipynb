{
 "cells": [
  {
   "cell_type": "code",
   "execution_count": 8,
   "metadata": {},
   "outputs": [
    {
     "name": "stdout",
     "output_type": "stream",
     "text": [
      "        id   level     sex\n",
      "0  3566841    high    male\n",
      "1  6541227     low  Female\n",
      "2  3512441  middle  Female\n",
      "        id  level_high  level_low  level_middle  sex_male  sex_Female\n",
      "0  3566841        True      False         False      True       False\n",
      "1  6541227       False       True         False     False        True\n",
      "2  3512441       False      False          True     False        True\n"
     ]
    }
   ],
   "source": [
    "import pandas as pd  # 导入pandas库\n",
    "from sklearn.preprocessing import OneHotEncoder  # 导入OneHotEncoder库\n",
    "\n",
    "# 生成数据\n",
    "df = pd.DataFrame({'id': [3566841, 6541227, 3512441],\n",
    "                   'sex': ['male', 'Female', 'Female'],\n",
    "                   'level': ['high', 'low', 'middle']})\n",
    "print (df)  # 打印输出原始数据框\n",
    "\n",
    "# 自定义转换主过程\n",
    "df_new = df.copy()  # 复制一份新的数据框用来存储转换结果\n",
    "for col_num, col_name in enumerate(df):  # 循环读出每个列的索引值和列名\n",
    "    col_data = df[col_name]  # 获得每列数据\n",
    "    col_dtype = col_data.dtype  # 获得每列dtype类型\n",
    "    if col_dtype == 'object':  # 如果dtype类型是object（非数值型），执行条件\n",
    "        df_new = df_new.drop(col_name, 1)  # 删除df数据框中要进行标志转换的列\n",
    "        value_sets = col_data.unique()  # 获取分类和顺序变量的唯一值域\n",
    "        for value_unique in value_sets:  # 读取分类和顺序变量中的每个值\n",
    "            col_name_new = col_name + '_' + value_unique  # 创建新的列名，使用原标题+值的方式命名\n",
    "            col_tmp = df.iloc[:, col_num]  # 获取原始数据列\n",
    "            new_col = (col_tmp == value_unique)  # 将原始数据列与每个值进行比较，相同为True，否则为False\n",
    "            df_new[col_name_new] = new_col  # 为最终结果集增加新列值\n",
    "print (df_new)  # 打印输出转换后的数据框"
   ]
  },
  {
   "cell_type": "code",
   "execution_count": 3,
   "metadata": {},
   "outputs": [
    {
     "data": {
      "text/html": [
       "<div>\n",
       "<style scoped>\n",
       "    .dataframe tbody tr th:only-of-type {\n",
       "        vertical-align: middle;\n",
       "    }\n",
       "\n",
       "    .dataframe tbody tr th {\n",
       "        vertical-align: top;\n",
       "    }\n",
       "\n",
       "    .dataframe thead th {\n",
       "        text-align: right;\n",
       "    }\n",
       "</style>\n",
       "<table border=\"1\" class=\"dataframe\">\n",
       "  <thead>\n",
       "    <tr style=\"text-align: right;\">\n",
       "      <th></th>\n",
       "      <th>id</th>\n",
       "      <th>level_high</th>\n",
       "      <th>level_low</th>\n",
       "      <th>level_middle</th>\n",
       "      <th>sex_Female</th>\n",
       "      <th>sex_male</th>\n",
       "    </tr>\n",
       "  </thead>\n",
       "  <tbody>\n",
       "    <tr>\n",
       "      <th>0</th>\n",
       "      <td>3566841</td>\n",
       "      <td>1</td>\n",
       "      <td>0</td>\n",
       "      <td>0</td>\n",
       "      <td>0</td>\n",
       "      <td>1</td>\n",
       "    </tr>\n",
       "    <tr>\n",
       "      <th>1</th>\n",
       "      <td>6541227</td>\n",
       "      <td>0</td>\n",
       "      <td>1</td>\n",
       "      <td>0</td>\n",
       "      <td>1</td>\n",
       "      <td>0</td>\n",
       "    </tr>\n",
       "    <tr>\n",
       "      <th>2</th>\n",
       "      <td>3512441</td>\n",
       "      <td>0</td>\n",
       "      <td>0</td>\n",
       "      <td>1</td>\n",
       "      <td>1</td>\n",
       "      <td>0</td>\n",
       "    </tr>\n",
       "  </tbody>\n",
       "</table>\n",
       "</div>"
      ],
      "text/plain": [
       "        id  level_high  level_low  level_middle  sex_Female  sex_male\n",
       "0  3566841           1          0             0           0         1\n",
       "1  6541227           0          1             0           1         0\n",
       "2  3512441           0          0             1           1         0"
      ]
     },
     "execution_count": 3,
     "metadata": {},
     "output_type": "execute_result"
    }
   ],
   "source": [
    "pd.get_dummies(df)"
   ]
  },
  {
   "cell_type": "code",
   "execution_count": 13,
   "metadata": {},
   "outputs": [
    {
     "name": "stdout",
     "output_type": "stream",
     "text": [
      "<type 'numpy.ndarray'>\n",
      "         0    0    1    2    3    4\n",
      "0  3566841  0.0  0.0  1.0  1.0  0.0\n",
      "1  6541227  1.0  0.0  0.0  0.0  1.0\n",
      "2  3512441  0.0  1.0  0.0  0.0  1.0\n"
     ]
    }
   ],
   "source": [
    "# 使用sklearn进行标志转换\n",
    "df2 = pd.DataFrame({'id': [3566841, 6541227, 3512441],\n",
    "                    'sex': [1, 2, 2],\n",
    "                    'level': [3, 1, 2]})\n",
    "id_data = df2.values[:, :1]  # 获得ID列\n",
    "transform_data = df2.values[:, 1:]  # 指定要转换的列\n",
    "enc = OneHotEncoder()  # 建立模型对象\n",
    "df2_new = enc.fit_transform(transform_data).toarray()  # 标志转换\n",
    "print type(df2_new)\n",
    "df2_all = pd.concat((pd.DataFrame(id_data), pd.DataFrame(df2_new)), axis=1)  # 组合为数据框\n",
    "print (df2_all)  # 打印输出转换后的数据框"
   ]
  },
  {
   "cell_type": "code",
   "execution_count": null,
   "metadata": {},
   "outputs": [],
   "source": []
  }
 ],
 "metadata": {
  "kernelspec": {
   "display_name": "Python 2",
   "language": "python",
   "name": "python2"
  },
  "language_info": {
   "codemirror_mode": {
    "name": "ipython",
    "version": 2
   },
   "file_extension": ".py",
   "mimetype": "text/x-python",
   "name": "python",
   "nbconvert_exporter": "python",
   "pygments_lexer": "ipython2",
   "version": "2.7.15"
  }
 },
 "nbformat": 4,
 "nbformat_minor": 2
}
