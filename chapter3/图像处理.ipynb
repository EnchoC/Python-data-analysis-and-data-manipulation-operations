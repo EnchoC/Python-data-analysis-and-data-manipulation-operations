{
 "cells": [
  {
   "cell_type": "code",
   "execution_count": 1,
   "metadata": {},
   "outputs": [
    {
     "ename": "ImportError",
     "evalue": "No module named cv2",
     "output_type": "error",
     "traceback": [
      "\u001b[0;31m---------------------------------------------------------------------------\u001b[0m",
      "\u001b[0;31mImportError\u001b[0m                               Traceback (most recent call last)",
      "\u001b[0;32m<ipython-input-1-4e20a29252ec>\u001b[0m in \u001b[0;36m<module>\u001b[0;34m()\u001b[0m\n\u001b[1;32m      1\u001b[0m \u001b[0;31m# 3.12.3 图像的基本预处理\u001b[0m\u001b[0;34m\u001b[0m\u001b[0;34m\u001b[0m\u001b[0m\n\u001b[0;32m----> 2\u001b[0;31m \u001b[0;32mimport\u001b[0m \u001b[0mcv2\u001b[0m  \u001b[0;31m# 导入图像处理库\u001b[0m\u001b[0;34m\u001b[0m\u001b[0m\n\u001b[0m\u001b[1;32m      3\u001b[0m \u001b[0;32mimport\u001b[0m \u001b[0mnumpy\u001b[0m \u001b[0;32mas\u001b[0m \u001b[0mnp\u001b[0m  \u001b[0;31m# 导入numpy库\u001b[0m\u001b[0;34m\u001b[0m\u001b[0m\n\u001b[1;32m      4\u001b[0m \u001b[0;32mfrom\u001b[0m \u001b[0mmatplotlib\u001b[0m \u001b[0;32mimport\u001b[0m \u001b[0mpyplot\u001b[0m \u001b[0;32mas\u001b[0m \u001b[0mplt\u001b[0m  \u001b[0;31m# 导入展示库\u001b[0m\u001b[0;34m\u001b[0m\u001b[0m\n\u001b[1;32m      5\u001b[0m \u001b[0mget_ipython\u001b[0m\u001b[0;34m(\u001b[0m\u001b[0;34m)\u001b[0m\u001b[0;34m.\u001b[0m\u001b[0mmagic\u001b[0m\u001b[0;34m(\u001b[0m\u001b[0;34mu'matplotlib inline'\u001b[0m\u001b[0;34m)\u001b[0m\u001b[0;34m\u001b[0m\u001b[0m\n",
      "\u001b[0;31mImportError\u001b[0m: No module named cv2"
     ]
    }
   ],
   "source": [
    "# 3.12.3 图像的基本预处理\n",
    "import cv2  # 导入图像处理库\n",
    "import numpy as np  # 导入numpy库\n",
    "from matplotlib import pyplot as plt  # 导入展示库\n",
    "%matplotlib inline\n"
   ]
  },
  {
   "cell_type": "code",
   "execution_count": null,
   "metadata": {},
   "outputs": [],
   "source": [
    "\n",
    "# 展示图像模块\n",
    "def img_show(img_name, img):\n",
    "    cv2.imshow(img_name, img)\n",
    "    cv2.waitKey(0)\n",
    "    cv2.destroyAllWindows()\n",
    "\n",
    "\n",
    "# 原始图像\n",
    "img_file = 'sudoku.png'  # 定义原始数据文件\n",
    "img = cv2.imread(img_file)  # 以彩色模式读取图像文件\n",
    "rows, cols, ch = img.shape  # 获取图像形状\n",
    "img_show('raw img', img)  # 展示彩色图像\n",
    "\n",
    "# 图像缩放\n",
    "img_scale = cv2.resize(img, None, fx=0.6, fy=0.6, interpolation=cv2.INTER_CUBIC)  # 图像缩放\n",
    "img_show('scale img', img_scale)  # 展示缩放后的图像\n",
    "\n",
    "# 图像平移\n",
    "M = np.float32([[1, 0, 100], [0, 1, 50]])  # 定义平移中心\n",
    "img_transform = cv2.warpAffine(img, M, (cols, rows))  # 平移图像\n",
    "img_show('transform img', img_transform)  # 展示平移后的图像\n",
    "\n",
    "# 图像旋转\n",
    "M = cv2.getRotationMatrix2D((cols / 2, rows / 2), 45, 0.6)  # 定义旋转中心\n",
    "img_rotation = cv2.warpAffine(img, M, (cols, rows))  # 第一个参数为旋转中心，第二个为旋转角度，第三个为旋转后的缩放因子\n",
    "img_show('rotation img', img_rotation)  # 展示旋转后的图像\n",
    "\n",
    "# 透视变换\n",
    "pts1 = np.float32([[76, 89], [490, 74], [37, 515], [520, 522]])  # 定义变换前的四个校准点\n",
    "pts2 = np.float32([[0, 0], [300, 0], [0, 300], [300, 300]])  # 定义变换后的四个角点\n",
    "M = cv2.getPerspectiveTransform(pts1, pts2)  # 定义变换中心点\n",
    "img_perspective = cv2.warpPerspective(img, M, (300, 300))  # 透视变换\n",
    "img_show('perspective img', img_perspective)  # 展示透视变换后的图像\n",
    "\n",
    "# 转换为灰度图像\n",
    "img_gray = cv2.cvtColor(img, cv2.COLOR_BGR2GRAY)  # 图像转灰度\n",
    "img_show('gray img', img_gray)  # 展示灰度图像\n",
    "\n",
    "# 边缘检测\n",
    "img_edges = cv2.Canny(img, 100, 200)  # 检测图像边缘\n",
    "img_show('edges img', img_edges)  # 展示图像边缘\n",
    "\n",
    "# 图像二值化\n",
    "ret, th1 = cv2.threshold(img_gray, 127, 255, cv2.THRESH_BINARY)  # 简单阀值\n",
    "th2 = cv2.adaptiveThreshold(img_gray, 255, cv2.ADAPTIVE_THRESH_MEAN_C, cv2.THRESH_BINARY, 11, 2)  # 自适应均值阀值\n",
    "th3 = cv2.adaptiveThreshold(img_gray, 255, cv2.ADAPTIVE_THRESH_GAUSSIAN_C, cv2.THRESH_BINARY, 11, 2)  # 自适应高斯阀值\n",
    "titles = ['Gray Image', 'Global Thresholding (v = 127)',\n",
    "          'Adaptive Mean Thresholding', 'Adaptive Gaussian Thresholding']  # 定义图像标题\n",
    "images = [img_gray, th1, th2, th3]  # 定义图像集\n",
    "for i in xrange(4):\n",
    "    plt.subplot(2, 2, i + 1), plt.imshow(images[i], 'gray')  # 以灰度模式展示每个子网格的图像\n",
    "    plt.title(titles[i])  # 设置每个自网格标题\n",
    "    plt.xticks([]), plt.yticks([])  # 设置x轴和y轴标题\n",
    "plt.show()  # 展示图像\n",
    "\n",
    "# 图像平滑\n",
    "kernel = np.ones((5, 5), np.float32) / 25  # 设置平滑内核大小\n",
    "img_smoth_filter2D = cv2.filter2D(img, -1, kernel)  # 2D卷积法\n",
    "img_smoth_blur = cv2.blur(img, (5, 5))  # 平均法\n",
    "img_smoth_gaussianblur = cv2.GaussianBlur(img, (5, 5), 0)  # 高斯模糊\n",
    "img_smoth_medianblur = cv2.medianBlur(img, 5)  # 中值法\n",
    "titles = ['filter2D', 'blur', 'GaussianBlur', 'medianBlur']  # 定义标题集\n",
    "images = [img_smoth_filter2D, img_smoth_blur, img_smoth_gaussianblur, img_smoth_medianblur]  # 定义图像集\n",
    "for i in xrange(4):\n",
    "    plt.subplot(2, 2, i + 1), plt.imshow(images[i], 'gray')  # 以灰度模式展示每个子网格的图像\n",
    "    plt.title(titles[i])  # 设置每个自网格标题\n",
    "    plt.xticks([]), plt.yticks([])  # 设置x轴和y轴标题\n",
    "plt.show()  # 展示全部图像\n",
    "\n",
    "# 形态学处理\n",
    "img2 = cv2.imread('j.png', 0)  # 以灰度模式读取图像\n",
    "kernel = np.ones((5, 5), np.uint8)  # 设置形态学处理内核大小\n",
    "erosion = cv2.erode(img2, kernel, iterations=1)  # 腐蚀\n",
    "dilation = cv2.dilate(img2, kernel, iterations=1)  # 膨胀\n",
    "plt.subplot(1, 3, 1), plt.imshow(img2, 'gray')  # 设置自网格1图像\n",
    "plt.subplot(1, 3, 2), plt.imshow(erosion, 'gray')  # 设置自网格2图像\n",
    "plt.subplot(1, 3, 3), plt.imshow(dilation, 'gray')  # 设置自网格3图像\n",
    "plt.show()  # 展示全部图像"
   ]
  }
 ],
 "metadata": {
  "kernelspec": {
   "display_name": "Python 2",
   "language": "python",
   "name": "python2"
  },
  "language_info": {
   "codemirror_mode": {
    "name": "ipython",
    "version": 2
   },
   "file_extension": ".py",
   "mimetype": "text/x-python",
   "name": "python",
   "nbconvert_exporter": "python",
   "pygments_lexer": "ipython2",
   "version": "2.7.15"
  }
 },
 "nbformat": 4,
 "nbformat_minor": 2
}
