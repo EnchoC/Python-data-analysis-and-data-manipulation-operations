{
 "cells": [
  {
   "cell_type": "code",
   "execution_count": 1,
   "metadata": {},
   "outputs": [
    {
     "name": "stderr",
     "output_type": "stream",
     "text": [
      "Building prefix dict from the default dictionary ...\n",
      "Loading model from cache /var/folders/nh/0fd3m34x1w96227l78d16dl80000gn/T/jieba.cache\n",
      "Loading model cost 0.672 seconds.\n",
      "Prefix dict has been built succesfully.\n"
     ]
    },
    {
     "name": "stdout",
     "output_type": "stream",
     "text": [
      "  word flag    weight\n",
      "0   数据    n  0.313395\n",
      "1   报表    n  0.163367\n",
      "2   功能    n  0.150263\n",
      "3   分析   vn  0.134857\n",
      "4   用户    n  0.126633\n"
     ]
    }
   ],
   "source": [
    "# 4.9.3 关键字提取\n",
    "# 导入库\n",
    "import jieba.analyse  # 导入关键字提取库\n",
    "import pandas as pd  # 导入pandas\n",
    "\n",
    "# 读取文本数据\n",
    "fn = open('article1.txt')  # 以只读方式打开文件\n",
    "string_data = fn.read()  # 使用read方法读取整段文本\n",
    "fn.close()  # 关闭文件对象\n",
    "\n",
    "# 关键字提取\n",
    "tags_pairs = jieba.analyse.extract_tags(string_data, topK=5, withWeight=True, allowPOS=['ns', 'n', 'vn', 'v', 'nr'],\n",
    "                                        withFlag=True)  # 提取关键字标签\n",
    "tags_list = []  # 空列表用来存储拆分后的三个值\n",
    "for i in tags_pairs:  # 打印标签、分组和TF-IDF权重\n",
    "    tags_list.append((i[0].word, i[0].flag, i[1]))  # 拆分三个字段值\n",
    "tags_pd = pd.DataFrame(tags_list, columns=['word', 'flag', 'weight'])  # 创建数据框\n",
    "print (tags_pd)  # 打印数据框"
   ]
  },
  {
   "cell_type": "code",
   "execution_count": null,
   "metadata": {},
   "outputs": [],
   "source": []
  }
 ],
 "metadata": {
  "kernelspec": {
   "display_name": "Python 2",
   "language": "python",
   "name": "python2"
  },
  "language_info": {
   "codemirror_mode": {
    "name": "ipython",
    "version": 2
   },
   "file_extension": ".py",
   "mimetype": "text/x-python",
   "name": "python",
   "nbconvert_exporter": "python",
   "pygments_lexer": "ipython2",
   "version": "2.7.15"
  }
 },
 "nbformat": 4,
 "nbformat_minor": 2
}
