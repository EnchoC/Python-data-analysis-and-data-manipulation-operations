{
 "cells": [
  {
   "cell_type": "code",
   "execution_count": 1,
   "metadata": {},
   "outputs": [],
   "source": [
    "# 4.9.4 文本聚类\n",
    "# 导入库\n",
    "import numpy as np\n",
    "import pandas as pd\n",
    "from sklearn.feature_extraction.text import TfidfVectorizer  # 基于TF-IDF的词频转向量库\n",
    "from sklearn.cluster import KMeans\n",
    "import jieba.posseg as pseg"
   ]
  },
  {
   "cell_type": "code",
   "execution_count": 2,
   "metadata": {},
   "outputs": [],
   "source": [
    "# 中文分词\n",
    "def jieba_cut(comment):\n",
    "    word_list = []  # 建立空列表用于存储分词结果\n",
    "    seg_list = pseg.cut(comment)  # 精确模式分词[默认模式]\n",
    "    for word in seg_list:\n",
    "        if word.flag in ['a', 'ag', 'an']:  # 只选择形容词\n",
    "            word_list.append(word.word)  # 分词追加到列表\n",
    "    return word_list"
   ]
  },
  {
   "cell_type": "code",
   "execution_count": 3,
   "metadata": {},
   "outputs": [],
   "source": [
    "# 读取数据文件\n",
    "fn = open('comment.txt')\n",
    "comment_list = fn.readlines()  # 读取文件内容为列表\n",
    "fn.close()"
   ]
  },
  {
   "cell_type": "code",
   "execution_count": 4,
   "metadata": {},
   "outputs": [
    {
     "name": "stderr",
     "output_type": "stream",
     "text": [
      "Building prefix dict from the default dictionary ...\n",
      "Loading model from cache /var/folders/nh/0fd3m34x1w96227l78d16dl80000gn/T/jieba.cache\n",
      "Loading model cost 0.703 seconds.\n",
      "Prefix dict has been built succesfully.\n"
     ]
    }
   ],
   "source": [
    "# word to vector\n",
    "stop_words = [u'…', u'。', u'，', u'？', u'！', u'+', u' ', u'、', u'：', u'；', u'（', u'）', u'.', u'-']  # 定义停用词\n",
    "vectorizer = TfidfVectorizer(stop_words=stop_words, tokenizer=jieba_cut, use_idf=True)  # 创建词向量模型\n",
    "X = vectorizer.fit_transform(comment_list)  # 将评论关键字列表转换为词向量空间模型"
   ]
  },
  {
   "cell_type": "code",
   "execution_count": 5,
   "metadata": {},
   "outputs": [
    {
     "data": {
      "text/plain": [
       "KMeans(algorithm='auto', copy_x=True, init='k-means++', max_iter=300,\n",
       "    n_clusters=3, n_init=10, n_jobs=None, precompute_distances='auto',\n",
       "    random_state=None, tol=0.0001, verbose=0)"
      ]
     },
     "execution_count": 5,
     "metadata": {},
     "output_type": "execute_result"
    }
   ],
   "source": [
    "# K均值聚类\n",
    "model_kmeans = KMeans(n_clusters=3)  # 创建聚类模型对象\n",
    "model_kmeans.fit(X)  # 训练模型"
   ]
  },
  {
   "cell_type": "code",
   "execution_count": 6,
   "metadata": {},
   "outputs": [
    {
     "name": "stdout",
     "output_type": "stream",
     "text": [
      "    一般   不厚   不爽   不贵   不错   不高   便宜   具体   准确    凹       ...          蓝   诚意  \\\n",
      "0  0.0  0.0  0.0  0.0  0.0  0.0  0.0  0.0  0.0  0.0       ...        0.0  0.0   \n",
      "\n",
      "     贵    足   透亮   重要    难         高   麻烦  cluster_labels  \n",
      "0  0.0  0.0  0.0  0.0  0.0  0.392535  0.0             1.0  \n",
      "\n",
      "[1 rows x 64 columns]\n"
     ]
    }
   ],
   "source": [
    "# 聚类结果汇总\n",
    "cluster_labels = model_kmeans.labels_  # 聚类标签结果\n",
    "word_vectors = vectorizer.get_feature_names()  # 词向量\n",
    "word_values = X.toarray()  # 向量值\n",
    "comment_matrix = np.hstack((word_values, cluster_labels.reshape(word_values.shape[0], 1)))  # 将向量值和标签值合并为新的矩阵\n",
    "word_vectors.append('cluster_labels')  # 将新的聚类标签列表追加到词向量后面\n",
    "comment_pd = pd.DataFrame(comment_matrix, columns=word_vectors)  # 创建包含词向量和聚类标签的数据框\n",
    "print (comment_pd.head(1))  # 打印输出数据框第1条数据"
   ]
  },
  {
   "cell_type": "code",
   "execution_count": 7,
   "metadata": {},
   "outputs": [
    {
     "name": "stdout",
     "output_type": "stream",
     "text": [
      "好     8.074925\n",
      "流畅    1.609872\n",
      "一般    1.482828\n",
      "大     1.126262\n",
      "清晰    1.069721\n",
      "dtype: float64\n"
     ]
    }
   ],
   "source": [
    "# 聚类结果分析\n",
    "comment_cluster1 = comment_pd[comment_pd['cluster_labels'] == 2].drop('cluster_labels', axis=1)  # 选择聚类标签值为2的数据，并删除最后一列\n",
    "word_importance = np.sum(comment_cluster1, axis=0)  # 按照词向量做汇总统计\n",
    "print (word_importance.sort_values(ascending=False)[:5])  # 按汇总统计的值做逆序排序并打印输出前5个词"
   ]
  },
  {
   "cell_type": "code",
   "execution_count": null,
   "metadata": {},
   "outputs": [],
   "source": []
  }
 ],
 "metadata": {
  "kernelspec": {
   "display_name": "Python 2",
   "language": "python",
   "name": "python2"
  },
  "language_info": {
   "codemirror_mode": {
    "name": "ipython",
    "version": 2
   },
   "file_extension": ".py",
   "mimetype": "text/x-python",
   "name": "python",
   "nbconvert_exporter": "python",
   "pygments_lexer": "ipython2",
   "version": "2.7.15"
  }
 },
 "nbformat": 4,
 "nbformat_minor": 2
}
