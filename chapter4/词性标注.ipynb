{
 "cells": [
  {
   "cell_type": "code",
   "execution_count": 1,
   "metadata": {},
   "outputs": [
    {
     "name": "stderr",
     "output_type": "stream",
     "text": [
      "Building prefix dict from the default dictionary ...\n",
      "Loading model from cache /var/folders/nh/0fd3m34x1w96227l78d16dl80000gn/T/jieba.cache\n",
      "Loading model cost 0.678 seconds.\n",
      "Prefix dict has been built succesfully.\n"
     ]
    },
    {
     "name": "stdout",
     "output_type": "stream",
     "text": [
      "        word type\n",
      "0      Adobe  eng\n",
      "1               x\n",
      "2  Analytics  eng\n",
      "3          和    c\n",
      "type  word\n",
      "a     不同      14\n",
      "      不足       2\n",
      "      不通       1\n",
      "      严谨       2\n",
      "Name: word, dtype: int64\n",
      "      word\n",
      "type      \n",
      "x      994\n",
      "n      981\n",
      "v      834\n",
      "eng    295\n",
      "        word type\n",
      "0      Adobe  eng\n",
      "2  Analytics  eng\n",
      "4   Webtrekk  eng\n",
      "9         领域    n\n"
     ]
    }
   ],
   "source": [
    "# 4.9.2 词性标注\n",
    "# 导入库\n",
    "import jieba.posseg as pseg\n",
    "import pandas as pd\n",
    "\n",
    "# 读取文本文件\n",
    "fn = open('article1.txt')  # 以只读方式打开文件\n",
    "string_data = fn.read()  # 使用read方法读取整段文本\n",
    "fn.close()  # 关闭文件对象\n",
    "\n",
    "# 分词+词性标注\n",
    "words = pseg.cut(string_data)  # 分词\n",
    "words_list = []  # 空列表用于存储分词和词性分类\n",
    "for word in words:  # 循环得到每个分词\n",
    "    words_list.append((word.word, word.flag))  # 将分词和词性分类追加到列表\n",
    "words_pd = pd.DataFrame(words_list, columns=['word', 'type'])  # 创建结果数据框\n",
    "print (words_pd.head(4))  # 展示结果前4条\n",
    "\n",
    "# 词性分类汇总-两列分类\n",
    "words_gb = words_pd.groupby(['type', 'word'])['word'].count()\n",
    "print (words_gb.head(4))\n",
    "\n",
    "# 词性分类汇总-单列分类\n",
    "words_gb2 = words_pd.groupby('type').count()\n",
    "words_gb2 = words_gb2.sort_values(by='word', ascending=False)\n",
    "print (words_gb2.head(4))\n",
    "\n",
    "# 选择特定类型词语做展示\n",
    "words_pd_index = words_pd['type'].isin(['n', 'eng'])\n",
    "words_pd_select = words_pd[words_pd_index]\n",
    "print (words_pd_select.head(4))"
   ]
  },
  {
   "cell_type": "code",
   "execution_count": null,
   "metadata": {},
   "outputs": [],
   "source": []
  }
 ],
 "metadata": {
  "kernelspec": {
   "display_name": "Python 2",
   "language": "python",
   "name": "python2"
  },
  "language_info": {
   "codemirror_mode": {
    "name": "ipython",
    "version": 2
   },
   "file_extension": ".py",
   "mimetype": "text/x-python",
   "name": "python",
   "nbconvert_exporter": "python",
   "pygments_lexer": "ipython2",
   "version": "2.7.15"
  }
 },
 "nbformat": 4,
 "nbformat_minor": 2
}
