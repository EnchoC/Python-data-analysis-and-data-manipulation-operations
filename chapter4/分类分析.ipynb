{
 "cells": [
  {
   "cell_type": "markdown",
   "metadata": {},
   "source": [
    "手写决策树"
   ]
  },
  {
   "cell_type": "code",
   "execution_count": 102,
   "metadata": {},
   "outputs": [],
   "source": [
    "#!/usr/bin/env python\n",
    "#coding=utf-8\n",
    "import pandas as pd\n",
    "import numpy as np\n",
    "import matplotlib.pyplot as plt\n",
    "%matplotlib inline\n",
    "from pprint import pprint\n",
    "from math import log\n",
    "from __future__ import division\n",
    "\n",
    "def create_data():\n",
    "    datasets = [['青年', '否', '否', '一般', '否'],\n",
    "               ['青年', '否', '否', '好', '否'],\n",
    "               ['青年', '是', '否', '好', '是'],\n",
    "               ['青年', '是', '是', '一般', '是'],\n",
    "               ['青年', '否', '否', '一般', '否'],\n",
    "               ['中年', '否', '否', '一般', '否'],\n",
    "               ['中年', '否', '否', '好', '否'],\n",
    "               ['中年', '是', '是', '好', '是'],\n",
    "               ['中年', '否', '是', '非常好', '是'],\n",
    "               ['中年', '否', '是', '非常好', '是'],\n",
    "               ['老年', '否', '是', '非常好', '是'],\n",
    "               ['老年', '否', '是', '好', '是'],\n",
    "               ['老年', '是', '否', '好', '是'],\n",
    "               ['老年', '是', '否', '非常好', '是'],\n",
    "               ['老年', '否', '否', '一般', '否'],\n",
    "               ]\n",
    "    labels = [u'年龄', u'有工作', u'有自己的房子', u'信贷情况', u'类别']\n",
    "    return datasets, labels\n",
    "datasets, labels = create_data()\n",
    "data = pd.DataFrame(datasets, columns=labels)"
   ]
  },
  {
   "cell_type": "markdown",
   "metadata": {},
   "source": [
    "<img src='ent.png'>"
   ]
  },
  {
   "cell_type": "code",
   "execution_count": 132,
   "metadata": {},
   "outputs": [],
   "source": [
    "def cal_ent(datasets):\n",
    "    label_count = {}\n",
    "    data_length = len(datasets)\n",
    "    for i in range(data_length):\n",
    "        label = datasets[i][-1]\n",
    "        label_count[label] = label_count.get(label, 0) + 1\n",
    "    ent = sum([(float(i)/float(data_length))*log(float(i)/float(data_length), 2) for i in label_count.values()])\n",
    "    return -ent"
   ]
  },
  {
   "cell_type": "markdown",
   "metadata": {},
   "source": [
    "<img src='cond_ent.png'>"
   ]
  },
  {
   "cell_type": "code",
   "execution_count": 131,
   "metadata": {},
   "outputs": [],
   "source": [
    "def cond_ent(datasets, axis=0):\n",
    "    feature_sets = {}\n",
    "    data_length = len(datasets)\n",
    "    for i in xrange(data_length):\n",
    "        feature = datasets[i][axis]\n",
    "        feature_sets[feature] = feature_sets.get(feature, []) + [datasets[i]]\n",
    "    cond_ent = sum([(float(len(i))/float(data_length))*cal_ent(i) for i in feature_sets.values()])\n",
    "    return cond_ent"
   ]
  },
  {
   "cell_type": "markdown",
   "metadata": {},
   "source": [
    "<img src='info_gain.png'>"
   ]
  },
  {
   "cell_type": "code",
   "execution_count": 133,
   "metadata": {},
   "outputs": [],
   "source": [
    "def info_gain(end, cond_ent):\n",
    "    return end - cond_ent"
   ]
  },
  {
   "cell_type": "code",
   "execution_count": 138,
   "metadata": {},
   "outputs": [],
   "source": [
    "import sys,os\n",
    "reload(sys)\n",
    "sys.setdefaultencoding('utf8')\n",
    "def info_gain_train(datasets):\n",
    "    count = len(datasets[0]) - 1\n",
    "    ent = cal_ent(datasets)\n",
    "    best_feature = []\n",
    "    for c in xrange(count):\n",
    "        c_info_gain = info_gain(ent, cond_ent(datasets, axis=c))\n",
    "        best_feature.append((c, c_info_gain))\n",
    "        print '特征({}) - info_gain[{:.3f}]'.format(labels[c], c_info_gain)\n",
    "    best_ = max(best_feature, key=lambda x: x[-1])\n",
    "    print '特征({})的信息增益最大，选择为根节点特征'.format(labels[best_[0]])\n",
    "    return best_feature\n",
    "info_gain_train(np.array(datasets))"
   ]
  },
  {
   "cell_type": "markdown",
   "metadata": {},
   "source": [
    "https://github.com/wzyonggege/statistical-learning-method/blob/master/DecisonTree/DT.ipynb"
   ]
  },
  {
   "cell_type": "code",
   "execution_count": 1,
   "metadata": {},
   "outputs": [],
   "source": [
    "# 4.3 分类分析\n",
    "# 导入库\n",
    "import numpy as np  # 导入numpy库\n",
    "from sklearn.model_selection import train_test_split  # 数据分区库\n",
    "from sklearn import tree  # 导入决策树库\n",
    "from sklearn.metrics import accuracy_score, auc, confusion_matrix, f1_score, precision_score, recall_score, \\\n",
    "    roc_curve  # 导入指标库\n",
    "import prettytable  # 导入表格库\n",
    "import pydotplus  # 导入dot插件库\n",
    "import matplotlib.pyplot as plt  # 导入图形展示库"
   ]
  },
  {
   "cell_type": "code",
   "execution_count": 3,
   "metadata": {},
   "outputs": [],
   "source": [
    "# 数据准备\n",
    "raw_data = np.loadtxt('classification.csv', delimiter=',', skiprows=1, )  # 读取数据文件\n",
    "X = raw_data[:, :-1]  # 分割X\n",
    "y = raw_data[:, -1]  # 分割y\n",
    "X_train, X_test, y_train, y_test = train_test_split(X, y, \n",
    "        test_size=.3, random_state=0)  # 将数据分为训练集和测试集"
   ]
  },
  {
   "cell_type": "code",
   "execution_count": 4,
   "metadata": {},
   "outputs": [],
   "source": [
    "# 训练分类模型\n",
    "model_tree = tree.DecisionTreeClassifier(random_state=0)  # 建立决策树模型对象\n",
    "model_tree.fit(X_train, y_train)  # 训练决策树模型\n",
    "pre_y = model_tree.predict(X_test)  # 使用测试集做模型效果检验"
   ]
  },
  {
   "cell_type": "code",
   "execution_count": 5,
   "metadata": {},
   "outputs": [
    {
     "name": "stdout",
     "output_type": "stream",
     "text": [
      "samples: 21927 \t features: 4\n",
      "----------------------------------------------------------------------\n"
     ]
    }
   ],
   "source": [
    "# 输出模型概况\n",
    "n_samples, n_features = X.shape  # 总样本量,总特征数\n",
    "print ('samples: %d \\t features: %d' % (n_samples, n_features))  # 打印输出样本量和特征数量\n",
    "print (70 * '-')  # 打印分隔线"
   ]
  },
  {
   "cell_type": "code",
   "execution_count": 50,
   "metadata": {},
   "outputs": [
    {
     "name": "stdout",
     "output_type": "stream",
     "text": [
      "confusion matrix\n",
      "+---------+---------+\n",
      "| Field 1 | Field 2 |\n",
      "+---------+---------+\n",
      "|   5615  |   284   |\n",
      "|   321   |   359   |\n",
      "+---------+---------+\n"
     ]
    }
   ],
   "source": [
    "# 混淆矩阵\n",
    "confusion_m = confusion_matrix(y_test, pre_y)  # 获得混淆矩阵\n",
    "confusion_matrix_table = prettytable.PrettyTable()  # 创建表格实例\n",
    "confusion_matrix_table.add_row(confusion_m[0, :])  # 增加第一行数据\n",
    "confusion_matrix_table.add_row(confusion_m[1, :])  # 增加第二行数据\n",
    "print ('confusion matrix')\n",
    "print (confusion_matrix_table)  # 打印输出混淆矩阵"
   ]
  },
  {
   "cell_type": "code",
   "execution_count": 7,
   "metadata": {},
   "outputs": [
    {
     "name": "stdout",
     "output_type": "stream",
     "text": [
      "core metrics\n",
      "+----------------+----------------+---------------+----------------+----------------+\n",
      "|      auc       |    accuracy    |   precision   |     recall     |       f1       |\n",
      "+----------------+----------------+---------------+----------------+----------------+\n",
      "| 0.749870117567 | 0.908040735674 | 0.55832037325 | 0.527941176471 | 0.542705971277 |\n",
      "+----------------+----------------+---------------+----------------+----------------+\n"
     ]
    }
   ],
   "source": [
    "# 核心评估指标\n",
    "y_score = model_tree.predict_proba(X_test)  # 获得决策树的预测概率\n",
    "fpr, tpr, thresholds = roc_curve(y_test, y_score[:, 1])  # ROC\n",
    "auc_s = auc(fpr, tpr)  # AUC\n",
    "accuracy_s = accuracy_score(y_test, pre_y)  # 准确率\n",
    "precision_s = precision_score(y_test, pre_y)  # 精确度\n",
    "recall_s = recall_score(y_test, pre_y)  # 召回率\n",
    "f1_s = f1_score(y_test, pre_y)  # F1得分\n",
    "core_metrics = prettytable.PrettyTable()  # 创建表格实例\n",
    "core_metrics.field_names = ['auc', 'accuracy', 'precision', 'recall', 'f1']  # 定义表格列名\n",
    "core_metrics.add_row([auc_s, accuracy_s, precision_s, recall_s, f1_s])  # 增加数据\n",
    "print ('core metrics')\n",
    "print (core_metrics)  # 打印输出核心评估指标"
   ]
  },
  {
   "cell_type": "code",
   "execution_count": 8,
   "metadata": {},
   "outputs": [
    {
     "data": {
      "text/plain": [
       "<Figure size 432x288 with 0 Axes>"
      ]
     },
     "execution_count": 8,
     "metadata": {},
     "output_type": "execute_result"
    },
    {
     "data": {
      "text/plain": [
       "<Figure size 432x288 with 0 Axes>"
      ]
     },
     "metadata": {},
     "output_type": "display_data"
    }
   ],
   "source": [
    "# 模型效果可视化\n",
    "names_list = ['age', 'gender', 'income', 'rfm_score']  # 分类模型维度列表\n",
    "color_list = ['r', 'c', 'b', 'g']  # 颜色列表\n",
    "plt.figure()  # 创建画布"
   ]
  },
  {
   "cell_type": "code",
   "execution_count": 9,
   "metadata": {},
   "outputs": [
    {
     "data": {
      "image/png": "[encoded data removed]",
      "text/plain": [
       "<Figure size 432x288 with 2 Axes>"
      ]
     },
     "metadata": {
      "needs_background": "light"
     },
     "output_type": "display_data"
    }
   ],
   "source": [
    "# 子网格1：ROC曲线\n",
    "plt.subplot(1, 2, 1)  # 第一个子网格\n",
    "plt.plot(fpr, tpr, label='ROC')  # 画出ROC曲线\n",
    "plt.plot([0, 1], [0, 1], linestyle='--', color='k', label='random chance')  # 画出随机状态下的准确率线\n",
    "plt.title('ROC')  # 子网格标题\n",
    "plt.xlabel('false positive rate')  # X轴标题\n",
    "plt.ylabel('true positive rate')  # y轴标题\n",
    "plt.legend(loc=0)\n",
    "# 子网格2：指标重要性\n",
    "feature_importance = model_tree.feature_importances_  # 获得指标重要性\n",
    "plt.subplot(1, 2, 2)  # 第二个子网格\n",
    "plt.bar(np.arange(feature_importance.shape[0]), feature_importance, tick_label=names_list, color=color_list)  # 画出条形图\n",
    "plt.title('feature importance')  # 子网格标题\n",
    "plt.xlabel('features')  # x轴标题\n",
    "plt.ylabel('importance')  # y轴标题\n",
    "plt.suptitle('classification result')  # 图形总标题\n",
    "plt.show()  # 展示图形"
   ]
  },
  {
   "cell_type": "code",
   "execution_count": 10,
   "metadata": {},
   "outputs": [
    {
     "data": {
      "text/plain": [
       "True"
      ]
     },
     "execution_count": 10,
     "metadata": {},
     "output_type": "execute_result"
    }
   ],
   "source": [
    "# 保存决策树规则图为PDF文件\n",
    "dot_data = tree.export_graphviz(model_tree, out_file=None, max_depth=5, feature_names=names_list, filled=True,\n",
    "                                rounded=True)  # 将决策树规则生成dot对象\n",
    "graph = pydotplus.graph_from_dot_data(dot_data)  # 通过pydotplus将决策树规则解析为图形\n",
    "graph.write_pdf(\"tree.pdf\")  # 将决策树规则保存为PDF文件"
   ]
  },
  {
   "cell_type": "code",
   "execution_count": 48,
   "metadata": {},
   "outputs": [
    {
     "name": "stdout",
     "output_type": "stream",
     "text": [
      "classification prediction\n",
      "classification for 1 record is: 0\n",
      "classification for 2 record is: 0\n",
      "classification for 3 record is: 1\n"
     ]
    }
   ],
   "source": [
    "# 模型应用\n",
    "X_new = [[40, 0, 55616, 0], [17, 0, 55568, 0], [55, 1, 55932, 1]]\n",
    "print ('classification prediction')\n",
    "for i, data in enumerate(X_new):\n",
    "    data = np.array(data).reshape((1,len(data)))\n",
    "    y_pre_new = model_tree.predict(data)\n",
    "    print ('classification for %d record is: %d' % (i + 1, y_pre_new))"
   ]
  },
  {
   "cell_type": "code",
   "execution_count": null,
   "metadata": {},
   "outputs": [],
   "source": []
  }
 ],
 "metadata": {
  "kernelspec": {
   "display_name": "Python 2",
   "language": "python",
   "name": "python2"
  },
  "language_info": {
   "codemirror_mode": {
    "name": "ipython",
    "version": 2
   },
   "file_extension": ".py",
   "mimetype": "text/x-python",
   "name": "python",
   "nbconvert_exporter": "python",
   "pygments_lexer": "ipython2",
   "version": "2.7.15"
  }
 },
 "nbformat": 4,
 "nbformat_minor": 2
}
