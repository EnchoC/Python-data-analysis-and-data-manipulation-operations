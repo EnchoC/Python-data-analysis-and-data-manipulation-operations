{
 "cells": [
  {
   "cell_type": "code",
   "execution_count": 10,
   "metadata": {},
   "outputs": [],
   "source": [
    "# 4.4 关联分析\n",
    "# 导入库\n",
    "import sys\n",
    "sys.path.append('../chapter4')\n",
    "import pandas as pd\n",
    "from graphviz import Digraph\n",
    "import apriori"
   ]
  },
  {
   "cell_type": "code",
   "execution_count": 11,
   "metadata": {},
   "outputs": [],
   "source": [
    "# 定义数据文件\n",
    "fileName = 'association.txt'"
   ]
  },
  {
   "cell_type": "code",
   "execution_count": 21,
   "metadata": {},
   "outputs": [],
   "source": [
    "# 通过调用自定义的apriori做关联分析\n",
    "minS = 0.1  # 定义最小支持度阀值\n",
    "minC = 0.3#0.38  # 定义最小置信度阀值\n",
    "dataSet = apriori.createData(fileName)  # 获取格式化的数据集\n",
    "L, suppData = apriori.apriori(dataSet, minSupport=minS)  # 计算得到满足最小支持度的规则\n",
    "rules = apriori.generateRules(fileName, L, suppData, minConf=minC)  # 计算满足最小置信度的规则"
   ]
  },
  {
   "cell_type": "code",
   "execution_count": 22,
   "metadata": {},
   "outputs": [
    {
     "name": "stdout",
     "output_type": "stream",
     "text": [
      "data record: 100 \n",
      "association rules count: 12\n",
      "              item1          itme2  instance  support  confidence    lift\n",
      "1     (17288980167)  (17092020299)        14     0.14      0.4828  1.3410\n",
      "2     (17092020299)  (17288980167)        14     0.14      0.3889  1.3410\n",
      "6     (38660935334)  (38728350298)        14     0.14      0.3684  1.3158\n",
      "7     (38728350298)  (38660935334)        14     0.14      0.5000  1.3158\n",
      "8     (38722052311)  (38660935334)        14     0.14      0.3889  1.0234\n",
      "9     (38660935334)  (38722052311)        14     0.14      0.3684  1.0234\n",
      "4     (38722052311)  (30562668862)        12     0.12      0.3333  1.0101\n",
      "5     (30562668862)  (38722052311)        12     0.12      0.3636  1.0101\n",
      "10    (30562668862)  (17092020299)        12     0.12      0.3636  1.0101\n",
      "11    (17092020299)  (30562668862)        12     0.12      0.3333  1.0101\n",
      "3   (13943415375\\r)  (38660935334)        10     0.10      0.4762  1.2531\n"
     ]
    }
   ],
   "source": [
    "# 关联结果报表评估\n",
    "model_summary = 'data record: {1} \\nassociation rules count: {0}'  # 展示数据集记录数和满足阀值定义的规则数量\n",
    "print (model_summary.format(len(rules), len(dataSet)))  # 使用str.format做格式化输出\n",
    "df = pd.DataFrame(rules, columns=['item1', 'itme2', 'instance', 'support', 'confidence', 'lift'])  # 创建频繁规则数据框\n",
    "df_lift = df[df['lift'] > 1.0]  # 只选择提升度>1的规则\n",
    "print (df_lift.sort_values('instance', ascending=False))  # 打印排序后的数据框"
   ]
  },
  {
   "cell_type": "code",
   "execution_count": 23,
   "metadata": {},
   "outputs": [
    {
     "data": {
      "text/plain": [
       "'apriori.pdf'"
      ]
     },
     "execution_count": 23,
     "metadata": {},
     "output_type": "execute_result"
    }
   ],
   "source": [
    "# 关联结果图形展示\n",
    "dot = Digraph()  # 创建有向图\n",
    "graph_data = df_lift[['item1', 'itme2', 'instance']]  # 切分画图用的前项、后项和实例数数据\n",
    "for each_data in graph_data.values:  # 循环读出每条规则\n",
    "    node1, node2, weight = each_data  # 分割每条数据画图用的前项、后项和实例数\n",
    "    node1 = str(node1)  # 转化为字符串\n",
    "    node2 = str(node2)  # 转化为字符串\n",
    "    label = '%s' % weight  # 创建一个标签用于展示实例数\n",
    "    dot.node(node1, node1, shape='record')  # 增加节点（规则中的前项）\n",
    "    dot.edge(node1, node2, label=label, constraint='true')  # 增加有向边\n",
    "dot.render('apriori', view=True)  # 保存规则为pdf文件"
   ]
  },
  {
   "cell_type": "code",
   "execution_count": null,
   "metadata": {},
   "outputs": [],
   "source": []
  }
 ],
 "metadata": {
  "kernelspec": {
   "display_name": "Python 2",
   "language": "python",
   "name": "python2"
  },
  "language_info": {
   "codemirror_mode": {
    "name": "ipython",
    "version": 2
   },
   "file_extension": ".py",
   "mimetype": "text/x-python",
   "name": "python",
   "nbconvert_exporter": "python",
   "pygments_lexer": "ipython2",
   "version": "2.7.15"
  }
 },
 "nbformat": 4,
 "nbformat_minor": 2
}
